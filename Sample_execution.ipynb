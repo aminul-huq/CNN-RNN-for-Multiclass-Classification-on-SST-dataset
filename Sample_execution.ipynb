{
 "cells": [
  {
   "cell_type": "code",
   "execution_count": 1,
   "metadata": {},
   "outputs": [],
   "source": [
    "import torch\n",
    "from utils import *\n",
    "from models import *\n",
    "import argparse\n",
    "import torch.nn.functional as F\n",
    "\n",
    "device = 'cuda'\n",
    "torch.cuda.set_device(4)"
   ]
  },
  {
   "cell_type": "code",
   "execution_count": 2,
   "metadata": {},
   "outputs": [],
   "source": [
    "train_iterator, valid_iterator, test_iterator, TEXT = get_SSTdata()"
   ]
  },
  {
   "cell_type": "code",
   "execution_count": 3,
   "metadata": {},
   "outputs": [],
   "source": [
    "DROPOUT = 0\n",
    "HIDDEN_DIM = 256\n",
    "num_epochs = 5\n",
    "lr = 0.001\n",
    "N_FILTERS = 64\n",
    "FILTER_SIZES = 1\n",
    "    \n",
    "INPUT_DIM = len(TEXT.vocab)\n",
    "EMBEDDING_DIM = 300\n",
    "OUTPUT_DIM = 5\n",
    "PAD_IDX = TEXT.vocab.stoi[TEXT.pad_token]\n",
    "\n",
    "model = CNN(INPUT_DIM, EMBEDDING_DIM, N_FILTERS, FILTER_SIZES, OUTPUT_DIM, DROPOUT, PAD_IDX).to(device)\n",
    "\n",
    "model = RNN(INPUT_DIM, EMBEDDING_DIM,DROPOUT, HIDDEN_DIM, OUTPUT_DIM).to(device)"
   ]
  },
  {
   "cell_type": "code",
   "execution_count": 4,
   "metadata": {},
   "outputs": [],
   "source": [
    "import torch.optim as optim\n",
    "\n",
    "optimizer = optim.Adam(model.parameters())\n",
    "\n",
    "criterion = nn.CrossEntropyLoss()"
   ]
  },
  {
   "cell_type": "code",
   "execution_count": 5,
   "metadata": {},
   "outputs": [
    {
     "name": "stdout",
     "output_type": "stream",
     "text": [
      "Beginning to Train\n",
      "Training: epoch: [1/10] Loss: [1.07] Accuracy [40.72] Eval: Loss: [1.15] Accuracy[39.69]\n",
      "Training: epoch: [2/10] Loss: [1.06] Accuracy [41.74] Eval: Loss: [1.07] Accuracy[39.87]\n",
      "Training: epoch: [3/10] Loss: [1.05] Accuracy [41.07] Eval: Loss: [1.12] Accuracy[39.51]\n",
      "Training: epoch: [4/10] Loss: [1.05] Accuracy [41.98] Eval: Loss: [1.13] Accuracy[43.78]\n",
      "Training: epoch: [5/10] Loss: [1.05] Accuracy [41.62] Eval: Loss: [1.20] Accuracy[43.32]\n",
      "Training: epoch: [6/10] Loss: [1.05] Accuracy [41.37] Eval: Loss: [1.20] Accuracy[37.97]\n",
      "Training: epoch: [7/10] Loss: [1.05] Accuracy [41.18] Eval: Loss: [1.21] Accuracy[42.05]\n",
      "Training: epoch: [8/10] Loss: [1.04] Accuracy [41.55] Eval: Loss: [1.19] Accuracy[38.96]\n",
      "Training: epoch: [9/10] Loss: [1.04] Accuracy [41.80] Eval: Loss: [1.17] Accuracy[43.14]\n",
      "Training: epoch: [10/10] Loss: [1.04] Accuracy [41.53] Eval: Loss: [1.29] Accuracy[39.42]\n"
     ]
    }
   ],
   "source": [
    "history = train_eval(model, train_iterator, valid_iterator, 10, optimizer, criterion ,device)"
   ]
  },
  {
   "cell_type": "code",
   "execution_count": 6,
   "metadata": {},
   "outputs": [
    {
     "name": "stdout",
     "output_type": "stream",
     "text": [
      "======================================================\n",
      "TESTING\n",
      "======================================================\n",
      "Testing: Loss: [1.41] Accuracy [41.67]\n"
     ]
    }
   ],
   "source": [
    "test(model,test_iterator,criterion,device)"
   ]
  },
  {
   "cell_type": "code",
   "execution_count": 7,
   "metadata": {},
   "outputs": [
    {
     "data": {
      "image/png": "[encoded data removed]",
      "text/plain": [
       "<Figure size 432x288 with 1 Axes>"
      ]
     },
     "metadata": {
      "needs_background": "light"
     },
     "output_type": "display_data"
    },
    {
     "ename": "TypeError",
     "evalue": "imsave() missing 1 required positional argument: 'arr'",
     "output_type": "error",
     "traceback": [
      "\u001b[0;31m---------------------------------------------------------------------------\u001b[0m",
      "\u001b[0;31mTypeError\u001b[0m                                 Traceback (most recent call last)",
      "\u001b[0;32m<ipython-input-7-83fe3094b136>\u001b[0m in \u001b[0;36m<module>\u001b[0;34m\u001b[0m\n\u001b[0;32m----> 1\u001b[0;31m \u001b[0mvisualize_train\u001b[0m\u001b[0;34m(\u001b[0m\u001b[0mhistory\u001b[0m\u001b[0;34m)\u001b[0m\u001b[0;34m\u001b[0m\u001b[0;34m\u001b[0m\u001b[0m\n\u001b[0m",
      "\u001b[0;32m/data/home/aminul/ML/CNN-RNN-for-Multiclass-Classification-on-SST-dataset/utils.py\u001b[0m in \u001b[0;36mvisualize_train\u001b[0;34m(history)\u001b[0m\n\u001b[1;32m    174\u001b[0m     \u001b[0mplt\u001b[0m\u001b[0;34m.\u001b[0m\u001b[0mtitle\u001b[0m\u001b[0;34m(\u001b[0m\u001b[0;34m\"Loss vs Number of iteration\"\u001b[0m\u001b[0;34m)\u001b[0m\u001b[0;34m\u001b[0m\u001b[0;34m\u001b[0m\u001b[0m\n\u001b[1;32m    175\u001b[0m     \u001b[0mplt\u001b[0m\u001b[0;34m.\u001b[0m\u001b[0mshow\u001b[0m\u001b[0;34m(\u001b[0m\u001b[0;34m)\u001b[0m\u001b[0;34m\u001b[0m\u001b[0;34m\u001b[0m\u001b[0m\n\u001b[0;32m--> 176\u001b[0;31m     \u001b[0mplt\u001b[0m\u001b[0;34m.\u001b[0m\u001b[0mimsave\u001b[0m\u001b[0;34m(\u001b[0m\u001b[0;34m\"Training_loss\"\u001b[0m\u001b[0;34m)\u001b[0m\u001b[0;34m\u001b[0m\u001b[0;34m\u001b[0m\u001b[0m\n\u001b[0m\u001b[1;32m    177\u001b[0m \u001b[0;34m\u001b[0m\u001b[0m\n\u001b[1;32m    178\u001b[0m     \u001b[0mplt\u001b[0m\u001b[0;34m.\u001b[0m\u001b[0mplot\u001b[0m\u001b[0;34m(\u001b[0m\u001b[0mhistory\u001b[0m\u001b[0;34m[\u001b[0m\u001b[0;34m'train_acc'\u001b[0m\u001b[0;34m]\u001b[0m\u001b[0;34m,\u001b[0m\u001b[0mcolor\u001b[0m \u001b[0;34m=\u001b[0m \u001b[0;34m\"red\"\u001b[0m\u001b[0;34m)\u001b[0m\u001b[0;34m\u001b[0m\u001b[0;34m\u001b[0m\u001b[0m\n",
      "\u001b[0;31mTypeError\u001b[0m: imsave() missing 1 required positional argument: 'arr'"
     ]
    }
   ],
   "source": [
    "visualize_train(history)"
   ]
  },
  {
   "cell_type": "code",
   "execution_count": null,
   "metadata": {},
   "outputs": [],
   "source": [
    "visualize_eval(history)"
   ]
  },
  {
   "cell_type": "code",
   "execution_count": null,
   "metadata": {},
   "outputs": [],
   "source": []
  }
 ],
 "metadata": {
  "kernelspec": {
   "display_name": "Python [conda env:pyTorch]",
   "language": "python",
   "name": "conda-env-pyTorch-py"
  },
  "language_info": {
   "codemirror_mode": {
    "name": "ipython",
    "version": 3
   },
   "file_extension": ".py",
   "mimetype": "text/x-python",
   "name": "python",
   "nbconvert_exporter": "python",
   "pygments_lexer": "ipython3",
   "version": "3.6.10"
  }
 },
 "nbformat": 4,
 "nbformat_minor": 4
}
